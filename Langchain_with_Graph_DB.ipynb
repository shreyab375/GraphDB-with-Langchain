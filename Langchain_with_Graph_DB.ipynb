{
  "nbformat": 4,
  "nbformat_minor": 0,
  "metadata": {
    "colab": {
      "provenance": [],
      "gpuType": "T4",
      "authorship_tag": "ABX9TyPwrDhzENQo8lFku7oSn11C",
      "include_colab_link": true
    },
    "kernelspec": {
      "name": "python3",
      "display_name": "Python 3"
    },
    "language_info": {
      "name": "python"
    },
    "accelerator": "GPU"
  },
  "cells": [
    {
      "cell_type": "markdown",
      "metadata": {
        "id": "view-in-github",
        "colab_type": "text"
      },
      "source": [
        "<a href=\"https://colab.research.google.com/github/shreyab375/GraphDB-with-Langchain/blob/main/Langchain_with_Graph_DB.ipynb\" target=\"_parent\"><img src=\"https://colab.research.google.com/assets/colab-badge.svg\" alt=\"Open In Colab\"/></a>"
      ]
    },
    {
      "cell_type": "code",
      "execution_count": 60,
      "metadata": {
        "id": "P_lw7Reukt8_"
      },
      "outputs": [],
      "source": [
        "!pip install --upgrade --quiet langchain langchain-community langchain-openai neo4j"
      ]
    },
    {
      "cell_type": "code",
      "source": [
        "#Create free instance at https://neo4j.com/cloud/platform/aura-graph-database/ and create API keys for free.\n",
        "#Below key is deleted\n",
        "NEO4J_URI=\"neo4j+s://118neo4j.io\"\n",
        "NEO4J_USERNAME=\"neo4j\"\n",
        "NEO4J_PASSWORD=\"1W6EhDEyFjlfK\""
      ],
      "metadata": {
        "id": "q_uqwpVsltiz"
      },
      "execution_count": 5,
      "outputs": []
    },
    {
      "cell_type": "code",
      "source": [
        "#Create an environment variable\n",
        "import os\n",
        "os.environ[\"NEO4J_URI\"] = NEO4J_URI\n",
        "os.environ[\"NEO4J_USERNAME\"] = NEO4J_USERNAME\n",
        "os.environ[\"NEO4J_PASSWORD\"] = NEO4J_PASSWORD"
      ],
      "metadata": {
        "id": "TAvOQSO_mLqY"
      },
      "execution_count": 6,
      "outputs": []
    },
    {
      "cell_type": "code",
      "source": [
        "from langchain_community.graphs import Neo4jGraph\n",
        "graphs = Neo4jGraph(\n",
        "        url = NEO4J_URI,\n",
        "        username = NEO4J_USERNAME,\n",
        "        password = NEO4J_PASSWORD\n",
        "        )"
      ],
      "metadata": {
        "id": "nV96a6Abmn6q"
      },
      "execution_count": 10,
      "outputs": []
    },
    {
      "cell_type": "code",
      "source": [
        "#Create an API key for free at groq.com to use free Models\n",
        "groq_api =\"gsk_QXRIZXnB8Yjm\" #This won't work"
      ],
      "metadata": {
        "id": "4bAoo5dzmn_F"
      },
      "execution_count": 11,
      "outputs": []
    },
    {
      "cell_type": "code",
      "source": [
        "!pip install --quiet langchain_groq langchain.core"
      ],
      "metadata": {
        "id": "4YjoFJedo46n"
      },
      "execution_count": 61,
      "outputs": []
    },
    {
      "cell_type": "code",
      "source": [
        "from langchain_groq import ChatGroq"
      ],
      "metadata": {
        "id": "lo2KAfZ6moBT"
      },
      "execution_count": 14,
      "outputs": []
    },
    {
      "cell_type": "code",
      "source": [
        "llm = ChatGroq(groq_api_key = groq_api, model_name =\"Gemma2-9b-It\")"
      ],
      "metadata": {
        "id": "zh8MXm7TmoEs"
      },
      "execution_count": 15,
      "outputs": []
    },
    {
      "cell_type": "code",
      "source": [
        "from langchain_core.documents import Document"
      ],
      "metadata": {
        "id": "kASB6ByFpkpf"
      },
      "execution_count": 20,
      "outputs": []
    },
    {
      "cell_type": "code",
      "source": [
        "#Randon from Wikipedia\n",
        "text = \"\"\"Andrew Yan-Tak Ng (Chinese: 吳恩達; born 1976) is a British-American computer scientist and technology entrepreneur\n",
        "      focusing on machine learning and artificial intelligence (AI).[2] Ng was a cofounder and head of Google Brain\n",
        "      and was the former Chief Scientist at Baidu, building the company's Artificial Intelligence\n",
        "      Group into a team of several thousand people.\n",
        "      Ng is an adjunct professor at Stanford University (formerly associate professor and Director of its Stanford AI Lab or SAIL).\n",
        "      Ng has also worked in the field of online education, cofounding Coursera and DeepLearning.AI.\n",
        "      He has spearheaded many efforts to \"democratize deep learning\" teaching over 8 million students through his online courses.\n",
        "      Ng is renowned globally in computer science, recognized in Time magazine's 100 Most Influential People in 2012 and\n",
        "      Fast Company's Most Creative People in 2014. His influence extends to being named in the Time100 AI Most Influential People in 2023.\n",
        "  \"\"\""
      ],
      "metadata": {
        "id": "lbJX1WNdpks1"
      },
      "execution_count": 22,
      "outputs": []
    },
    {
      "cell_type": "code",
      "source": [
        "#Dividing the documents into chunks\n",
        "documents = [Document(page_content =text)]"
      ],
      "metadata": {
        "id": "piIXSt3uq8sq"
      },
      "execution_count": 23,
      "outputs": []
    },
    {
      "cell_type": "code",
      "source": [
        "documents"
      ],
      "metadata": {
        "colab": {
          "base_uri": "https://localhost:8080/"
        },
        "id": "abrev6FmrbMD",
        "outputId": "26eee6fb-1beb-4767-ce9b-7ce96c2bf25e"
      },
      "execution_count": 24,
      "outputs": [
        {
          "output_type": "execute_result",
          "data": {
            "text/plain": [
              "[Document(page_content='Andrew Yan-Tak Ng (Chinese: 吳恩達; born 1976) is a British-American computer scientist and technology entrepreneur \\n      focusing on machine learning and artificial intelligence (AI).[2] Ng was a cofounder and head of Google Brain \\n      and was the former Chief Scientist at Baidu, building the company\\'s Artificial Intelligence\\n      Group into a team of several thousand people.\\n      Ng is an adjunct professor at Stanford University (formerly associate professor and Director of its Stanford AI Lab or SAIL). \\n      Ng has also worked in the field of online education, cofounding Coursera and DeepLearning.AI.\\n      He has spearheaded many efforts to \"democratize deep learning\" teaching over 8 million students through his online courses.\\n      Ng is renowned globally in computer science, recognized in Time magazine\\'s 100 Most Influential People in 2012 and\\n      Fast Company\\'s Most Creative People in 2014. His influence extends to being named in the Time100 AI Most Influential People in 2023.\\n  ')]"
            ]
          },
          "metadata": {},
          "execution_count": 24
        }
      ]
    },
    {
      "cell_type": "code",
      "source": [
        "!pip install --upgrade --quiet langchain_experimental"
      ],
      "metadata": {
        "colab": {
          "base_uri": "https://localhost:8080/"
        },
        "id": "LkeZ2Oy8rvCV",
        "outputId": "6706b323-a30b-4b3b-a285-cddd3ac37578"
      },
      "execution_count": 26,
      "outputs": [
        {
          "output_type": "stream",
          "name": "stdout",
          "text": [
            "\u001b[?25l   \u001b[90m━━━━━━━━━━━━━━━━━━━━━━━━━━━━━━━━━━━━━━━━\u001b[0m \u001b[32m0.0/204.3 kB\u001b[0m \u001b[31m?\u001b[0m eta \u001b[36m-:--:--\u001b[0m\r\u001b[2K   \u001b[90m━━━━━━━━━━━━━━━━━━━━━━━━━━━━━━━━━━━━━━━━\u001b[0m \u001b[32m204.3/204.3 kB\u001b[0m \u001b[31m6.3 MB/s\u001b[0m eta \u001b[36m0:00:00\u001b[0m\n",
            "\u001b[?25h"
          ]
        }
      ]
    },
    {
      "cell_type": "code",
      "source": [
        "from langchain_experimental.graph_transformers import LLMGraphTransformer"
      ],
      "metadata": {
        "id": "hW4YdqmgrbOi"
      },
      "execution_count": 31,
      "outputs": []
    },
    {
      "cell_type": "code",
      "source": [
        "llm_transformer = LLMGraphTransformer(llm=llm)"
      ],
      "metadata": {
        "id": "VqAZU2GzrbR8"
      },
      "execution_count": 32,
      "outputs": []
    },
    {
      "cell_type": "code",
      "source": [
        "#converting the document to GraphDB\n",
        "graph_doc = llm_transformer.convert_to_graph_documents(documents)"
      ],
      "metadata": {
        "id": "Wbsb0I3fpkxa"
      },
      "execution_count": 35,
      "outputs": []
    },
    {
      "cell_type": "code",
      "source": [
        "graph_doc"
      ],
      "metadata": {
        "colab": {
          "base_uri": "https://localhost:8080/"
        },
        "id": "x3DGq5AXs-Cv",
        "outputId": "fe189a18-e645-40a1-f23e-ad170e861e72"
      },
      "execution_count": 36,
      "outputs": [
        {
          "output_type": "execute_result",
          "data": {
            "text/plain": [
              "[GraphDocument(nodes=[Node(id='Andrew Yan-Tak Ng', type='Person'), Node(id='Google Brain', type='Organization'), Node(id='Baidu', type='Organization'), Node(id='Stanford University', type='Organization'), Node(id='Stanford Ai Lab', type='Organization'), Node(id='Coursera', type='Organization'), Node(id='Deeplearning.Ai', type='Organization')], relationships=[Relationship(source=Node(id='Andrew Yan-Tak Ng', type='Person'), target=Node(id='Google Brain', type='Organization'), type='COFOUNDER'), Relationship(source=Node(id='Andrew Yan-Tak Ng', type='Person'), target=Node(id='Baidu', type='Organization'), type='CHIEF_SCIENTIST'), Relationship(source=Node(id='Andrew Yan-Tak Ng', type='Person'), target=Node(id='Stanford University', type='Organization'), type='ADJUNCT_PROFESSOR'), Relationship(source=Node(id='Andrew Yan-Tak Ng', type='Person'), target=Node(id='Stanford Ai Lab', type='Organization'), type='DIRECTOR'), Relationship(source=Node(id='Andrew Yan-Tak Ng', type='Person'), target=Node(id='Coursera', type='Organization'), type='COFOUNDER'), Relationship(source=Node(id='Andrew Yan-Tak Ng', type='Person'), target=Node(id='Deeplearning.Ai', type='Organization'), type='COFOUNDER')], source=Document(page_content='Andrew Yan-Tak Ng (Chinese: 吳恩達; born 1976) is a British-American computer scientist and technology entrepreneur \\n      focusing on machine learning and artificial intelligence (AI).[2] Ng was a cofounder and head of Google Brain \\n      and was the former Chief Scientist at Baidu, building the company\\'s Artificial Intelligence\\n      Group into a team of several thousand people.\\n      Ng is an adjunct professor at Stanford University (formerly associate professor and Director of its Stanford AI Lab or SAIL). \\n      Ng has also worked in the field of online education, cofounding Coursera and DeepLearning.AI.\\n      He has spearheaded many efforts to \"democratize deep learning\" teaching over 8 million students through his online courses.\\n      Ng is renowned globally in computer science, recognized in Time magazine\\'s 100 Most Influential People in 2012 and\\n      Fast Company\\'s Most Creative People in 2014. His influence extends to being named in the Time100 AI Most Influential People in 2023.\\n  '))]"
            ]
          },
          "metadata": {},
          "execution_count": 36
        }
      ]
    },
    {
      "cell_type": "code",
      "source": [
        "graph_doc[0].nodes"
      ],
      "metadata": {
        "colab": {
          "base_uri": "https://localhost:8080/"
        },
        "id": "VQIHJqPKs-E2",
        "outputId": "75fe9c55-1ddb-46b4-906c-66b04d4ce85e"
      },
      "execution_count": 38,
      "outputs": [
        {
          "output_type": "execute_result",
          "data": {
            "text/plain": [
              "[Node(id='Andrew Yan-Tak Ng', type='Person'),\n",
              " Node(id='Google Brain', type='Organization'),\n",
              " Node(id='Baidu', type='Organization'),\n",
              " Node(id='Stanford University', type='Organization'),\n",
              " Node(id='Stanford Ai Lab', type='Organization'),\n",
              " Node(id='Coursera', type='Organization'),\n",
              " Node(id='Deeplearning.Ai', type='Organization')]"
            ]
          },
          "metadata": {},
          "execution_count": 38
        }
      ]
    },
    {
      "cell_type": "code",
      "source": [
        "graph_doc[0].relationships"
      ],
      "metadata": {
        "colab": {
          "base_uri": "https://localhost:8080/"
        },
        "id": "cgukOaHis-IY",
        "outputId": "9a8c0fba-aa3a-4531-95c9-1df468fc3de7"
      },
      "execution_count": 39,
      "outputs": [
        {
          "output_type": "execute_result",
          "data": {
            "text/plain": [
              "[Relationship(source=Node(id='Andrew Yan-Tak Ng', type='Person'), target=Node(id='Google Brain', type='Organization'), type='COFOUNDER'),\n",
              " Relationship(source=Node(id='Andrew Yan-Tak Ng', type='Person'), target=Node(id='Baidu', type='Organization'), type='CHIEF_SCIENTIST'),\n",
              " Relationship(source=Node(id='Andrew Yan-Tak Ng', type='Person'), target=Node(id='Stanford University', type='Organization'), type='ADJUNCT_PROFESSOR'),\n",
              " Relationship(source=Node(id='Andrew Yan-Tak Ng', type='Person'), target=Node(id='Stanford Ai Lab', type='Organization'), type='DIRECTOR'),\n",
              " Relationship(source=Node(id='Andrew Yan-Tak Ng', type='Person'), target=Node(id='Coursera', type='Organization'), type='COFOUNDER'),\n",
              " Relationship(source=Node(id='Andrew Yan-Tak Ng', type='Person'), target=Node(id='Deeplearning.Ai', type='Organization'), type='COFOUNDER')]"
            ]
          },
          "metadata": {},
          "execution_count": 39
        }
      ]
    },
    {
      "cell_type": "code",
      "source": [
        "#Adding the graph to schema\n",
        "graphs.add_graph_documents(graph_doc)"
      ],
      "metadata": {
        "id": "2Af1lJH7tTUZ"
      },
      "execution_count": 42,
      "outputs": []
    },
    {
      "cell_type": "code",
      "source": [
        "graphs.refresh_schema()\n",
        "print(graphs.schema)"
      ],
      "metadata": {
        "colab": {
          "base_uri": "https://localhost:8080/"
        },
        "id": "6w4RihaD47lU",
        "outputId": "b2311f45-c740-4e7a-8a65-c345d771dafc"
      },
      "execution_count": 48,
      "outputs": [
        {
          "output_type": "stream",
          "name": "stdout",
          "text": [
            "Node properties:\n",
            "person {born: INTEGER, name: STRING}\n",
            "movie {Title: STRING, released: INTEGER}\n",
            "Person {id: STRING}\n",
            "Organization {id: STRING}\n",
            "Relationship properties:\n",
            "\n",
            "The relationships:\n",
            "(:Person)-[:COFOUNDER]->(:Organization)\n",
            "(:Person)-[:CHIEF_SCIENTIST]->(:Organization)\n",
            "(:Person)-[:ADJUNCT_PROFESSOR]->(:Organization)\n",
            "(:Person)-[:DIRECTOR]->(:Organization)\n"
          ]
        }
      ]
    },
    {
      "cell_type": "code",
      "source": [
        "#Query the database without knowing Cypher Query Language\n",
        "from langchain.chains import GraphCypherQAChain\n",
        "chain = GraphCypherQAChain.from_llm(llm=llm,graph = graphs,verbose = True)"
      ],
      "metadata": {
        "id": "5g6O2O0W3bZy"
      },
      "execution_count": 54,
      "outputs": []
    },
    {
      "cell_type": "code",
      "source": [
        "chain.invoke({\"query\":\"Who is Andrew Yan-Tak Ng\"})"
      ],
      "metadata": {
        "id": "3Re5FKwh4DO1"
      },
      "execution_count": null,
      "outputs": []
    }
  ]
}